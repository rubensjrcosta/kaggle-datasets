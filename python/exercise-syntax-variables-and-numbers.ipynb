{
 "cells": [
  {
   "cell_type": "markdown",
   "id": "0493fa19",
   "metadata": {
    "papermill": {
     "duration": 0.007605,
     "end_time": "2022-08-22T02:02:06.986091",
     "exception": false,
     "start_time": "2022-08-22T02:02:06.978486",
     "status": "completed"
    },
    "tags": []
   },
   "source": [
    "**This notebook is an exercise in the [Python](https://www.kaggle.com/learn/python) course.  You can reference the tutorial at [this link](https://www.kaggle.com/colinmorris/hello-python).**\n",
    "\n",
    "---\n"
   ]
  },
  {
   "cell_type": "markdown",
   "id": "d474bd85",
   "metadata": {
    "papermill": {
     "duration": 0.006175,
     "end_time": "2022-08-22T02:02:06.998785",
     "exception": false,
     "start_time": "2022-08-22T02:02:06.992610",
     "status": "completed"
    },
    "tags": []
   },
   "source": [
    "Welcome to your first set of Python coding problems.  If this is your first time using Kaggle Notebooks, welcome! \n",
    "\n",
    "Notebooks are composed of blocks (called \"cells\") of text and code. Each of these is editable, though you'll mainly be editing the code cells to answer some questions.\n",
    "\n",
    "To get started, try running the code cell below (by pressing the ► button, or clicking on the cell and pressing ctrl+enter on your keyboard)."
   ]
  },
  {
   "cell_type": "code",
   "execution_count": 1,
   "id": "9f2e99c6",
   "metadata": {
    "execution": {
     "iopub.execute_input": "2022-08-22T02:02:07.013860Z",
     "iopub.status.busy": "2022-08-22T02:02:07.013002Z",
     "iopub.status.idle": "2022-08-22T02:02:07.025498Z",
     "shell.execute_reply": "2022-08-22T02:02:07.024484Z"
    },
    "papermill": {
     "duration": 0.023331,
     "end_time": "2022-08-22T02:02:07.028469",
     "exception": false,
     "start_time": "2022-08-22T02:02:07.005138",
     "status": "completed"
    },
    "tags": []
   },
   "outputs": [
    {
     "name": "stdout",
     "output_type": "stream",
     "text": [
      "You've successfully run some Python code\n",
      "Congratulations!\n",
      "Hello kaggle\n"
     ]
    }
   ],
   "source": [
    "print(\"You've successfully run some Python code\")\n",
    "print(\"Congratulations!\")\n",
    "print(\"Hello \" + \"kaggle\")"
   ]
  },
  {
   "cell_type": "markdown",
   "id": "e90e69e5",
   "metadata": {
    "papermill": {
     "duration": 0.006701,
     "end_time": "2022-08-22T02:02:07.041912",
     "exception": false,
     "start_time": "2022-08-22T02:02:07.035211",
     "status": "completed"
    },
    "tags": []
   },
   "source": [
    "Try adding another line of code in the cell above and re-running it. \n",
    "\n",
    "Now let's get a little fancier:  Add a new code cell by clicking on an existing code cell, hitting the escape key, and then hitting the `a` or `b` key.  The `a` key will add a cell above the current cell, and `b` adds a cell below.\n",
    "\n",
    "Great! Now you know how to use Notebooks.\n",
    "\n",
    "Each hands-on exercise starts by setting up our feedback and code checking mechanism. Run the code cell below to do that. Then you'll be ready to move on to question 0."
   ]
  },
  {
   "cell_type": "code",
   "execution_count": 2,
   "id": "13bd806a",
   "metadata": {
    "_kg_hide-input": true,
    "_kg_hide-output": true,
    "execution": {
     "iopub.execute_input": "2022-08-22T02:02:07.057341Z",
     "iopub.status.busy": "2022-08-22T02:02:07.056588Z",
     "iopub.status.idle": "2022-08-22T02:02:07.112350Z",
     "shell.execute_reply": "2022-08-22T02:02:07.111210Z"
    },
    "papermill": {
     "duration": 0.066539,
     "end_time": "2022-08-22T02:02:07.115164",
     "exception": false,
     "start_time": "2022-08-22T02:02:07.048625",
     "status": "completed"
    },
    "tags": []
   },
   "outputs": [
    {
     "name": "stdout",
     "output_type": "stream",
     "text": [
      "Setup complete! You're ready to start question 0.\n"
     ]
    }
   ],
   "source": [
    "from learntools.core import binder; binder.bind(globals())\n",
    "from learntools.python.ex1 import *\n",
    "print(\"Setup complete! You're ready to start question 0.\")"
   ]
  },
  {
   "cell_type": "markdown",
   "id": "0a7e4ee2",
   "metadata": {
    "papermill": {
     "duration": 0.006843,
     "end_time": "2022-08-22T02:02:07.128721",
     "exception": false,
     "start_time": "2022-08-22T02:02:07.121878",
     "status": "completed"
    },
    "tags": []
   },
   "source": [
    "# 0.\n",
    "\n",
    "*This is a silly question intended as an introduction to the format we use for hands-on exercises throughout all Kaggle courses.*\n",
    "\n",
    "**What is your favorite color? **\n",
    "\n",
    "To complete this question, create a variable called `color` in the cell below with an appropriate value. The function call `q0.check()` (which we've already provided in the cell below) will check your answer."
   ]
  },
  {
   "cell_type": "code",
   "execution_count": 3,
   "id": "57b4505f",
   "metadata": {
    "execution": {
     "iopub.execute_input": "2022-08-22T02:02:07.144490Z",
     "iopub.status.busy": "2022-08-22T02:02:07.143338Z",
     "iopub.status.idle": "2022-08-22T02:02:07.156967Z",
     "shell.execute_reply": "2022-08-22T02:02:07.155502Z"
    },
    "papermill": {
     "duration": 0.023964,
     "end_time": "2022-08-22T02:02:07.159377",
     "exception": false,
     "start_time": "2022-08-22T02:02:07.135413",
     "status": "completed"
    },
    "tags": []
   },
   "outputs": [
    {
     "name": "stdout",
     "output_type": "stream",
     "text": [
      "My color is\n"
     ]
    },
    {
     "data": {
      "application/javascript": [
       "parent.postMessage({\"jupyterEvent\": \"custom.exercise_interaction\", \"data\": {\"outcomeType\": 1, \"valueTowardsCompletion\": 0.25, \"interactionType\": 1, \"questionType\": 2, \"questionId\": \"0_ExerciseFormatTutorial\", \"learnToolsVersion\": \"0.3.4\", \"failureMessage\": \"\", \"exceptionClass\": \"\", \"trace\": \"\"}}, \"*\")"
      ],
      "text/plain": [
       "<IPython.core.display.Javascript object>"
      ]
     },
     "metadata": {},
     "output_type": "display_data"
    },
    {
     "data": {
      "text/markdown": [
       "<span style=\"color:#33cc33\">Correct:</span> What?! You got it right without needing a hint or anything? Drats. Well hey, you should still continue to the next step to get some practice asking for a hint and checking solutions. (Even though you obviously don't need any help here.)"
      ],
      "text/plain": [
       "Correct: What?! You got it right without needing a hint or anything? Drats. Well hey, you should still continue to the next step to get some practice asking for a hint and checking solutions. (Even though you obviously don't need any help here.)"
      ]
     },
     "metadata": {},
     "output_type": "display_data"
    }
   ],
   "source": [
    "# create a variable called color with an appropriate value on the line below\n",
    "# (Remember, strings in Python must be enclosed in 'single' or \"double\" quotes)\n",
    "____\n",
    "color = \"blue\"\n",
    "print(\"My color is\")\n",
    "# Check your answer\n",
    "q0.check()"
   ]
  },
  {
   "cell_type": "markdown",
   "id": "89fcba06",
   "metadata": {
    "papermill": {
     "duration": 0.006561,
     "end_time": "2022-08-22T02:02:07.173055",
     "exception": false,
     "start_time": "2022-08-22T02:02:07.166494",
     "status": "completed"
    },
    "tags": []
   },
   "source": [
    "Didn't get the right answer? How do you not even know your own favorite color?!\n",
    "\n",
    "Delete the `#` in the line below to make one of the lines run. You can choose between getting a hint or the full answer by choosing which line to remove the `#` from. \n",
    "\n",
    "Removing the `#` is called uncommenting, because it changes that line from a \"comment\" which Python doesn't run to code, which Python does run."
   ]
  },
  {
   "cell_type": "code",
   "execution_count": 4,
   "id": "2017331b",
   "metadata": {
    "execution": {
     "iopub.execute_input": "2022-08-22T02:02:07.189242Z",
     "iopub.status.busy": "2022-08-22T02:02:07.188201Z",
     "iopub.status.idle": "2022-08-22T02:02:07.192910Z",
     "shell.execute_reply": "2022-08-22T02:02:07.191802Z"
    },
    "papermill": {
     "duration": 0.015234,
     "end_time": "2022-08-22T02:02:07.195144",
     "exception": false,
     "start_time": "2022-08-22T02:02:07.179910",
     "status": "completed"
    },
    "tags": []
   },
   "outputs": [],
   "source": [
    "#q0.hint()\n",
    "#q0.solution()"
   ]
  },
  {
   "cell_type": "markdown",
   "id": "613ed42e",
   "metadata": {
    "papermill": {
     "duration": 0.006543,
     "end_time": "2022-08-22T02:02:07.208770",
     "exception": false,
     "start_time": "2022-08-22T02:02:07.202227",
     "status": "completed"
    },
    "tags": []
   },
   "source": [
    "The upcoming questions work the same way. The only thing that will change are the question numbers. For the next question, you'll call `q1.check()`, `q1.hint()`, `q1.solution()`, for question 2, you'll call `q2.check()`, and so on."
   ]
  },
  {
   "cell_type": "markdown",
   "id": "7226d7bd",
   "metadata": {
    "papermill": {
     "duration": 0.006561,
     "end_time": "2022-08-22T02:02:07.222387",
     "exception": false,
     "start_time": "2022-08-22T02:02:07.215826",
     "status": "completed"
    },
    "tags": []
   },
   "source": [
    "<hr/>\n",
    "\n",
    "# 1.\n",
    "\n",
    "Complete the code below. In case it's helpful, here is the table of available arithmetic operations:\n",
    "\n",
    "\n",
    "\n",
    "| Operator     | Name           | Description                                            |\n",
    "|--------------|----------------|--------------------------------------------------------|\n",
    "| ``a + b``    | Addition       | Sum of ``a`` and ``b``                                 |\n",
    "| ``a - b``    | Subtraction    | Difference of ``a`` and ``b``                          |\n",
    "| ``a * b``    | Multiplication | Product of ``a`` and ``b``                             |\n",
    "| ``a / b``    | True division  | Quotient of ``a`` and ``b``                            |\n",
    "| ``a // b``   | Floor division | Quotient of ``a`` and ``b``, removing fractional parts |\n",
    "| ``a % b``    | Modulus        | Integer remainder after division of ``a`` by ``b``     |\n",
    "| ``a ** b``   | Exponentiation | ``a`` raised to the power of ``b``                     |\n",
    "| ``-a``       | Negation       | The negative of ``a``                                  |\n",
    "\n",
    "<span style=\"display:none\"></span>\n"
   ]
  },
  {
   "cell_type": "code",
   "execution_count": 5,
   "id": "9b1e859d",
   "metadata": {
    "execution": {
     "iopub.execute_input": "2022-08-22T02:02:07.238393Z",
     "iopub.status.busy": "2022-08-22T02:02:07.237574Z",
     "iopub.status.idle": "2022-08-22T02:02:07.246068Z",
     "shell.execute_reply": "2022-08-22T02:02:07.245137Z"
    },
    "papermill": {
     "duration": 0.01896,
     "end_time": "2022-08-22T02:02:07.248237",
     "exception": false,
     "start_time": "2022-08-22T02:02:07.229277",
     "status": "completed"
    },
    "tags": []
   },
   "outputs": [
    {
     "data": {
      "application/javascript": [
       "parent.postMessage({\"jupyterEvent\": \"custom.exercise_interaction\", \"data\": {\"outcomeType\": 1, \"valueTowardsCompletion\": 0.25, \"interactionType\": 1, \"questionType\": 1, \"questionId\": \"1_CircleArea\", \"learnToolsVersion\": \"0.3.4\", \"failureMessage\": \"\", \"exceptionClass\": \"\", \"trace\": \"\"}}, \"*\")"
      ],
      "text/plain": [
       "<IPython.core.display.Javascript object>"
      ]
     },
     "metadata": {},
     "output_type": "display_data"
    },
    {
     "data": {
      "text/markdown": [
       "<span style=\"color:#33cc33\">Correct</span>"
      ],
      "text/plain": [
       "Correct"
      ]
     },
     "metadata": {},
     "output_type": "display_data"
    }
   ],
   "source": [
    "pi = 3.14159 # approximate\n",
    "diameter = 3\n",
    "\n",
    "# Create a variable called 'radius' equal to half the diameter\n",
    "____\n",
    "radius = diameter / 2\n",
    "# Create a variable called 'area', using the formula for the area of a circle: pi times the radius squared\n",
    "____\n",
    "area = pi * radius ** 2\n",
    "# Check your answer\n",
    "q1.check()"
   ]
  },
  {
   "cell_type": "code",
   "execution_count": 6,
   "id": "e7a42065",
   "metadata": {
    "execution": {
     "iopub.execute_input": "2022-08-22T02:02:07.265070Z",
     "iopub.status.busy": "2022-08-22T02:02:07.264585Z",
     "iopub.status.idle": "2022-08-22T02:02:07.268576Z",
     "shell.execute_reply": "2022-08-22T02:02:07.267714Z"
    },
    "papermill": {
     "duration": 0.014446,
     "end_time": "2022-08-22T02:02:07.270639",
     "exception": false,
     "start_time": "2022-08-22T02:02:07.256193",
     "status": "completed"
    },
    "tags": []
   },
   "outputs": [],
   "source": [
    "# Uncomment and run the lines below if you need help.\n",
    "#q1.hint()\n",
    "#q1.solution()"
   ]
  },
  {
   "cell_type": "markdown",
   "id": "7727a107",
   "metadata": {
    "papermill": {
     "duration": 0.006886,
     "end_time": "2022-08-22T02:02:07.284730",
     "exception": false,
     "start_time": "2022-08-22T02:02:07.277844",
     "status": "completed"
    },
    "tags": []
   },
   "source": [
    "<hr/>\n",
    "\n",
    "# 2.\n",
    "\n",
    "Add code to the following cell to swap variables `a` and `b` (so that `a` refers to the object previously referred to by `b` and vice versa)."
   ]
  },
  {
   "cell_type": "code",
   "execution_count": 7,
   "id": "4d39b923",
   "metadata": {
    "execution": {
     "iopub.execute_input": "2022-08-22T02:02:07.301131Z",
     "iopub.status.busy": "2022-08-22T02:02:07.300453Z",
     "iopub.status.idle": "2022-08-22T02:02:07.309271Z",
     "shell.execute_reply": "2022-08-22T02:02:07.308375Z"
    },
    "papermill": {
     "duration": 0.019346,
     "end_time": "2022-08-22T02:02:07.311374",
     "exception": false,
     "start_time": "2022-08-22T02:02:07.292028",
     "status": "completed"
    },
    "tags": []
   },
   "outputs": [
    {
     "data": {
      "application/javascript": [
       "parent.postMessage({\"jupyterEvent\": \"custom.exercise_interaction\", \"data\": {\"outcomeType\": 1, \"valueTowardsCompletion\": 0.25, \"interactionType\": 1, \"questionType\": 2, \"questionId\": \"2_VariableSwap\", \"learnToolsVersion\": \"0.3.4\", \"failureMessage\": \"\", \"exceptionClass\": \"\", \"trace\": \"\"}}, \"*\")"
      ],
      "text/plain": [
       "<IPython.core.display.Javascript object>"
      ]
     },
     "metadata": {},
     "output_type": "display_data"
    },
    {
     "data": {
      "text/markdown": [
       "<span style=\"color:#33cc33\">Correct:</span> \n",
       "\n",
       "The most straightforward solution is to use a third variable to temporarily store one of the old values. e.g.:\n",
       "\n",
       "    tmp = a\n",
       "    a = b\n",
       "    b = tmp\n",
       "\n",
       "If you've read lots of Python code, you might have seen the following trick to swap two variables in one line:\n",
       "\n",
       "    a, b = b, a\n",
       "\n",
       "We'll demystify this bit of Python magic later when we talk about *tuples*."
      ],
      "text/plain": [
       "Correct: \n",
       "\n",
       "The most straightforward solution is to use a third variable to temporarily store one of the old values. e.g.:\n",
       "\n",
       "    tmp = a\n",
       "    a = b\n",
       "    b = tmp\n",
       "\n",
       "If you've read lots of Python code, you might have seen the following trick to swap two variables in one line:\n",
       "\n",
       "    a, b = b, a\n",
       "\n",
       "We'll demystify this bit of Python magic later when we talk about *tuples*."
      ]
     },
     "metadata": {},
     "output_type": "display_data"
    }
   ],
   "source": [
    "########### Setup code - don't touch this part ######################\n",
    "# If you're curious, these are examples of lists. We'll talk about \n",
    "# them in depth a few lessons from now. For now, just know that they're\n",
    "# yet another type of Python object, like int or float.\n",
    "a = [1, 2, 3]\n",
    "b = [3, 2, 1]\n",
    "q2.store_original_ids()\n",
    "######################################################################\n",
    "a, b = b, a\n",
    "# Your code goes here. Swap the values to which a and b refer.\n",
    "# If you get stuck, you can always uncomment one or both of the lines in\n",
    "# the next cell for a hint, or to peek at the solution.\n",
    "\n",
    "######################################################################\n",
    "\n",
    "# Check your answer\n",
    "q2.check()"
   ]
  },
  {
   "cell_type": "code",
   "execution_count": 8,
   "id": "59347d53",
   "metadata": {
    "execution": {
     "iopub.execute_input": "2022-08-22T02:02:07.330225Z",
     "iopub.status.busy": "2022-08-22T02:02:07.329528Z",
     "iopub.status.idle": "2022-08-22T02:02:07.335239Z",
     "shell.execute_reply": "2022-08-22T02:02:07.334350Z"
    },
    "papermill": {
     "duration": 0.019089,
     "end_time": "2022-08-22T02:02:07.338213",
     "exception": false,
     "start_time": "2022-08-22T02:02:07.319124",
     "status": "completed"
    },
    "tags": []
   },
   "outputs": [],
   "source": [
    "#q2.hint()"
   ]
  },
  {
   "cell_type": "code",
   "execution_count": 9,
   "id": "59067854",
   "metadata": {
    "execution": {
     "iopub.execute_input": "2022-08-22T02:02:07.359343Z",
     "iopub.status.busy": "2022-08-22T02:02:07.358732Z",
     "iopub.status.idle": "2022-08-22T02:02:07.364353Z",
     "shell.execute_reply": "2022-08-22T02:02:07.362930Z"
    },
    "papermill": {
     "duration": 0.020223,
     "end_time": "2022-08-22T02:02:07.367009",
     "exception": false,
     "start_time": "2022-08-22T02:02:07.346786",
     "status": "completed"
    },
    "tags": []
   },
   "outputs": [],
   "source": [
    "#q2.solution()"
   ]
  },
  {
   "cell_type": "markdown",
   "id": "3d3676e8",
   "metadata": {
    "papermill": {
     "duration": 0.007469,
     "end_time": "2022-08-22T02:02:07.382285",
     "exception": false,
     "start_time": "2022-08-22T02:02:07.374816",
     "status": "completed"
    },
    "tags": []
   },
   "source": [
    "<hr/>\n",
    "\n",
    "# 3a.\n",
    "\n",
    "Add parentheses to the following expression so that it evaluates to 1."
   ]
  },
  {
   "cell_type": "code",
   "execution_count": 10,
   "id": "6b57a219",
   "metadata": {
    "execution": {
     "iopub.execute_input": "2022-08-22T02:02:07.402815Z",
     "iopub.status.busy": "2022-08-22T02:02:07.402447Z",
     "iopub.status.idle": "2022-08-22T02:02:07.408971Z",
     "shell.execute_reply": "2022-08-22T02:02:07.407989Z"
    },
    "papermill": {
     "duration": 0.020191,
     "end_time": "2022-08-22T02:02:07.411071",
     "exception": false,
     "start_time": "2022-08-22T02:02:07.390880",
     "status": "completed"
    },
    "tags": []
   },
   "outputs": [
    {
     "data": {
      "text/plain": [
       "1"
      ]
     },
     "execution_count": 10,
     "metadata": {},
     "output_type": "execute_result"
    }
   ],
   "source": [
    "(5 - 3) // 2"
   ]
  },
  {
   "cell_type": "code",
   "execution_count": 11,
   "id": "e874d057",
   "metadata": {
    "execution": {
     "iopub.execute_input": "2022-08-22T02:02:07.428580Z",
     "iopub.status.busy": "2022-08-22T02:02:07.428198Z",
     "iopub.status.idle": "2022-08-22T02:02:07.432130Z",
     "shell.execute_reply": "2022-08-22T02:02:07.431241Z"
    },
    "papermill": {
     "duration": 0.015624,
     "end_time": "2022-08-22T02:02:07.434430",
     "exception": false,
     "start_time": "2022-08-22T02:02:07.418806",
     "status": "completed"
    },
    "tags": []
   },
   "outputs": [],
   "source": [
    "#q3.a.hint()"
   ]
  },
  {
   "cell_type": "code",
   "execution_count": 12,
   "id": "e73a58e6",
   "metadata": {
    "execution": {
     "iopub.execute_input": "2022-08-22T02:02:07.452131Z",
     "iopub.status.busy": "2022-08-22T02:02:07.451658Z",
     "iopub.status.idle": "2022-08-22T02:02:07.459489Z",
     "shell.execute_reply": "2022-08-22T02:02:07.458309Z"
    },
    "papermill": {
     "duration": 0.019841,
     "end_time": "2022-08-22T02:02:07.462260",
     "exception": false,
     "start_time": "2022-08-22T02:02:07.442419",
     "status": "completed"
    },
    "tags": []
   },
   "outputs": [
    {
     "data": {
      "application/javascript": [
       "parent.postMessage({\"jupyterEvent\": \"custom.exercise_interaction\", \"data\": {\"interactionType\": 3, \"questionType\": 4, \"questionId\": \"3.1_ArithmeticParensEasy\", \"learnToolsVersion\": \"0.3.4\", \"valueTowardsCompletion\": 0.0, \"failureMessage\": \"\", \"exceptionClass\": \"\", \"trace\": \"\", \"outcomeType\": 4}}, \"*\")"
      ],
      "text/plain": [
       "<IPython.core.display.Javascript object>"
      ]
     },
     "metadata": {},
     "output_type": "display_data"
    },
    {
     "data": {
      "text/markdown": [
       "<span style=\"color:#33cc99\">Solution:</span> \n",
       "```python\n",
       "(5 - 3) // 2\n",
       "```"
      ],
      "text/plain": [
       "Solution: \n",
       "```python\n",
       "(5 - 3) // 2\n",
       "```"
      ]
     },
     "metadata": {},
     "output_type": "display_data"
    }
   ],
   "source": [
    "# Check your answer (Run this code cell to receive credit!)\n",
    "q3.a.solution()"
   ]
  },
  {
   "cell_type": "markdown",
   "id": "beb66c69",
   "metadata": {
    "papermill": {
     "duration": 0.007729,
     "end_time": "2022-08-22T02:02:07.478476",
     "exception": false,
     "start_time": "2022-08-22T02:02:07.470747",
     "status": "completed"
    },
    "tags": []
   },
   "source": [
    "# 3b.  <span title=\"A bit spicy\" style=\"color: darkgreen \">🌶️</span>\n",
    "\n",
    "<small>Questions, like this one, marked a spicy pepper are a bit harder.</small>\n",
    "\n",
    "Add parentheses to the following expression so that it evaluates to 0."
   ]
  },
  {
   "cell_type": "code",
   "execution_count": 13,
   "id": "ca599f05",
   "metadata": {
    "execution": {
     "iopub.execute_input": "2022-08-22T02:02:07.496482Z",
     "iopub.status.busy": "2022-08-22T02:02:07.495729Z",
     "iopub.status.idle": "2022-08-22T02:02:07.503307Z",
     "shell.execute_reply": "2022-08-22T02:02:07.502028Z"
    },
    "papermill": {
     "duration": 0.019177,
     "end_time": "2022-08-22T02:02:07.505600",
     "exception": false,
     "start_time": "2022-08-22T02:02:07.486423",
     "status": "completed"
    },
    "tags": []
   },
   "outputs": [
    {
     "data": {
      "text/plain": [
       "0"
      ]
     },
     "execution_count": 13,
     "metadata": {},
     "output_type": "execute_result"
    }
   ],
   "source": [
    "(8 - 3 * 2) - (1 + 1)"
   ]
  },
  {
   "cell_type": "code",
   "execution_count": 14,
   "id": "35892060",
   "metadata": {
    "execution": {
     "iopub.execute_input": "2022-08-22T02:02:07.523919Z",
     "iopub.status.busy": "2022-08-22T02:02:07.523285Z",
     "iopub.status.idle": "2022-08-22T02:02:07.527111Z",
     "shell.execute_reply": "2022-08-22T02:02:07.526276Z"
    },
    "papermill": {
     "duration": 0.015685,
     "end_time": "2022-08-22T02:02:07.529401",
     "exception": false,
     "start_time": "2022-08-22T02:02:07.513716",
     "status": "completed"
    },
    "tags": []
   },
   "outputs": [],
   "source": [
    "#q3.b.hint()"
   ]
  },
  {
   "cell_type": "code",
   "execution_count": 15,
   "id": "e4d8accd",
   "metadata": {
    "execution": {
     "iopub.execute_input": "2022-08-22T02:02:07.548109Z",
     "iopub.status.busy": "2022-08-22T02:02:07.547429Z",
     "iopub.status.idle": "2022-08-22T02:02:07.555216Z",
     "shell.execute_reply": "2022-08-22T02:02:07.554192Z"
    },
    "papermill": {
     "duration": 0.019985,
     "end_time": "2022-08-22T02:02:07.557686",
     "exception": false,
     "start_time": "2022-08-22T02:02:07.537701",
     "status": "completed"
    },
    "tags": []
   },
   "outputs": [
    {
     "data": {
      "application/javascript": [
       "parent.postMessage({\"jupyterEvent\": \"custom.exercise_interaction\", \"data\": {\"interactionType\": 3, \"questionType\": 4, \"questionId\": \"3.2_ArithmeticParensHard\", \"learnToolsVersion\": \"0.3.4\", \"valueTowardsCompletion\": 0.0, \"failureMessage\": \"\", \"exceptionClass\": \"\", \"trace\": \"\", \"outcomeType\": 4}}, \"*\")"
      ],
      "text/plain": [
       "<IPython.core.display.Javascript object>"
      ]
     },
     "metadata": {},
     "output_type": "display_data"
    },
    {
     "data": {
      "text/markdown": [
       "<span style=\"color:#33cc99\">Solution:</span> `(8 - 3) * (2 - (1 + 1))` is one solution. There may be others."
      ],
      "text/plain": [
       "Solution: `(8 - 3) * (2 - (1 + 1))` is one solution. There may be others."
      ]
     },
     "metadata": {},
     "output_type": "display_data"
    }
   ],
   "source": [
    "# Check your answer (Run this code cell to receive credit!)\n",
    "q3.b.solution()"
   ]
  },
  {
   "cell_type": "markdown",
   "id": "bee0ba53",
   "metadata": {
    "papermill": {
     "duration": 0.008141,
     "end_time": "2022-08-22T02:02:07.574429",
     "exception": false,
     "start_time": "2022-08-22T02:02:07.566288",
     "status": "completed"
    },
    "tags": []
   },
   "source": [
    "<hr/>\n",
    "\n",
    "# 4. \n",
    "Alice, Bob and Carol have agreed to pool their Halloween candy and split it evenly among themselves.\n",
    "For the sake of their friendship, any candies left over will be smashed. For example, if they collectively\n",
    "bring home 91 candies, they'll take 30 each and smash 1.\n",
    "\n",
    "Write an arithmetic expression below to calculate how many candies they must smash for a given haul."
   ]
  },
  {
   "cell_type": "code",
   "execution_count": 16,
   "id": "92b18720",
   "metadata": {
    "execution": {
     "iopub.execute_input": "2022-08-22T02:02:07.593407Z",
     "iopub.status.busy": "2022-08-22T02:02:07.592717Z",
     "iopub.status.idle": "2022-08-22T02:02:07.604748Z",
     "shell.execute_reply": "2022-08-22T02:02:07.603137Z"
    },
    "papermill": {
     "duration": 0.024336,
     "end_time": "2022-08-22T02:02:07.607172",
     "exception": false,
     "start_time": "2022-08-22T02:02:07.582836",
     "status": "completed"
    },
    "tags": []
   },
   "outputs": [
    {
     "name": "stdout",
     "output_type": "stream",
     "text": [
      "Candies they must smash 1\n"
     ]
    },
    {
     "data": {
      "application/javascript": [
       "parent.postMessage({\"jupyterEvent\": \"custom.exercise_interaction\", \"data\": {\"outcomeType\": 1, \"valueTowardsCompletion\": 0.25, \"interactionType\": 1, \"questionType\": 1, \"questionId\": \"4_CandySplitting\", \"learnToolsVersion\": \"0.3.4\", \"failureMessage\": \"\", \"exceptionClass\": \"\", \"trace\": \"\"}}, \"*\")"
      ],
      "text/plain": [
       "<IPython.core.display.Javascript object>"
      ]
     },
     "metadata": {},
     "output_type": "display_data"
    },
    {
     "data": {
      "text/markdown": [
       "<span style=\"color:#33cc33\">Correct</span>"
      ],
      "text/plain": [
       "Correct"
      ]
     },
     "metadata": {},
     "output_type": "display_data"
    }
   ],
   "source": [
    "# Variables representing the number of candies collected by alice, bob, and carol\n",
    "alice_candies = 121\n",
    "bob_candies = 77\n",
    "carol_candies = 109\n",
    "\n",
    "# Your code goes here! Replace the right-hand side of this assignment with an expression\n",
    "# involving alice_candies, bob_candies, and carol_candies\n",
    "total_candies = alice_candies + bob_candies + carol_candies\n",
    "to_smash = total_candies % 3\n",
    "print(\"Candies they must smash \" + str(to_smash))\n",
    "# Check your answer\n",
    "q4.check()"
   ]
  },
  {
   "cell_type": "code",
   "execution_count": 17,
   "id": "2192b93a",
   "metadata": {
    "execution": {
     "iopub.execute_input": "2022-08-22T02:02:07.627632Z",
     "iopub.status.busy": "2022-08-22T02:02:07.626807Z",
     "iopub.status.idle": "2022-08-22T02:02:07.631682Z",
     "shell.execute_reply": "2022-08-22T02:02:07.630724Z"
    },
    "papermill": {
     "duration": 0.017627,
     "end_time": "2022-08-22T02:02:07.634082",
     "exception": false,
     "start_time": "2022-08-22T02:02:07.616455",
     "status": "completed"
    },
    "tags": []
   },
   "outputs": [],
   "source": [
    "#q4.hint()\n",
    "#q4.solution()"
   ]
  },
  {
   "cell_type": "markdown",
   "id": "c65f724e",
   "metadata": {
    "papermill": {
     "duration": 0.00847,
     "end_time": "2022-08-22T02:02:07.651313",
     "exception": false,
     "start_time": "2022-08-22T02:02:07.642843",
     "status": "completed"
    },
    "tags": []
   },
   "source": [
    "# Keep Going\n",
    "\n",
    "Next up, you'll **[learn to write new functions and understand functions others write](https://www.kaggle.com/colinmorris/functions-and-getting-help)**. This will make you at least 10 times more productive as a Python programmer. "
   ]
  },
  {
   "cell_type": "markdown",
   "id": "b1334268",
   "metadata": {
    "papermill": {
     "duration": 0.008422,
     "end_time": "2022-08-22T02:02:07.668563",
     "exception": false,
     "start_time": "2022-08-22T02:02:07.660141",
     "status": "completed"
    },
    "tags": []
   },
   "source": [
    "---\n",
    "\n",
    "\n",
    "\n",
    "\n",
    "*Have questions or comments? Visit the [course discussion forum](https://www.kaggle.com/learn/python/discussion) to chat with other learners.*"
   ]
  }
 ],
 "metadata": {
  "kernelspec": {
   "display_name": "Python 3",
   "language": "python",
   "name": "python3"
  },
  "language_info": {
   "codemirror_mode": {
    "name": "ipython",
    "version": 3
   },
   "file_extension": ".py",
   "mimetype": "text/x-python",
   "name": "python",
   "nbconvert_exporter": "python",
   "pygments_lexer": "ipython3",
   "version": "3.7.12"
  },
  "papermill": {
   "default_parameters": {},
   "duration": 10.981335,
   "end_time": "2022-08-22T02:02:08.399330",
   "environment_variables": {},
   "exception": null,
   "input_path": "__notebook__.ipynb",
   "output_path": "__notebook__.ipynb",
   "parameters": {},
   "start_time": "2022-08-22T02:01:57.417995",
   "version": "2.3.4"
  }
 },
 "nbformat": 4,
 "nbformat_minor": 5
}
